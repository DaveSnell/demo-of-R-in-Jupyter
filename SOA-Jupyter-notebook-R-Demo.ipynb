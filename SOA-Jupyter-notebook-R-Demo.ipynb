{
 "cells": [
  {
   "cell_type": "markdown",
   "metadata": {},
   "source": [
    "## Sample R notebook in Jupyter"
   ]
  },
  {
   "cell_type": "markdown",
   "metadata": {},
   "source": [
    "## Let's start very simple. Note that a # starts a comment (and that this cell is a markdown cell)"
   ]
  },
  {
   "cell_type": "code",
   "execution_count": 75,
   "metadata": {
    "collapsed": false
   },
   "outputs": [],
   "source": [
    "#3 + 4  # remove the leading hash to run this as code"
   ]
  },
  {
   "cell_type": "code",
   "execution_count": 81,
   "metadata": {
    "collapsed": false
   },
   "outputs": [],
   "source": [
    "X <- 5 # preferred way to assign 5 to x\n",
    "6 -> Y # alternate assignment of 6 to y\n",
    "Z = 7 # yes, this works too\n",
    "assign(\"W\", 4) # still another option\n",
    "#print(paste(W, ' ', X, ' ', Y, ' ', Z, ' ', W+X+Y+Z))"
   ]
  },
  {
   "cell_type": "code",
   "execution_count": 46,
   "metadata": {
    "collapsed": false
   },
   "outputs": [
    {
     "ename": "ERROR",
     "evalue": "Error in contrib.url(repos, \"source\"): trying to use CRAN without setting a mirror\n",
     "output_type": "error",
     "traceback": [
      "Error in contrib.url(repos, \"source\"): trying to use CRAN without setting a mirror\nTraceback:\n",
      "1. install.packages(\"openxlsx\")",
      "2. contrib.url(repos, \"source\")",
      "3. stop(\"trying to use CRAN without setting a mirror\")"
     ]
    }
   ],
   "source": [
    "install.packages('openxlsx') #Yes, this generated an error. I keep it in the notebook as a reminder. \n",
    "# Note that the error is actually helpful; or you can paste it into a Google search and get the remedy."
   ]
  },
  {
   "cell_type": "code",
   "execution_count": 47,
   "metadata": {
    "collapsed": false
   },
   "outputs": [
    {
     "name": "stderr",
     "output_type": "stream",
     "text": [
      "Warning message:\n",
      ": package 'openxslx' is not available (for R version 3.3.0)"
     ]
    }
   ],
   "source": [
    "install.packages(\"openxslx\", repos=\"http://cran.rstudio.com/\") "
   ]
  },
  {
   "cell_type": "code",
   "execution_count": 48,
   "metadata": {
    "collapsed": false
   },
   "outputs": [],
   "source": [
    "if (!require(\"openxlsx\")) {\n",
    "  install.packages(\"openxslx\", repos=\"http://cran.rstudio.com/\") \n",
    "  library(\"openxslx\")\n",
    "}"
   ]
  },
  {
   "cell_type": "markdown",
   "metadata": {},
   "source": [
    "## Note to self: Before running the code of the next cell, show the Excel workbook\n",
    "## Also, show that this is a markdown cell vs. a code cell"
   ]
  },
  {
   "cell_type": "code",
   "execution_count": 50,
   "metadata": {
    "collapsed": false
   },
   "outputs": [],
   "source": [
    "xlBook <- 'I:\\\\R\\\\R-Demo.xlsx'\n",
    "prems <- read.xlsx(xlBook, sheet=1, startRow=1, colNames=TRUE, rowNames=FALSE, detectDate=FALSE, skipEmptyRows=TRUE)\n"
   ]
  },
  {
   "cell_type": "code",
   "execution_count": 54,
   "metadata": {
    "collapsed": false
   },
   "outputs": [],
   "source": [
    "#head(prems) # by default, this will show the top six rows"
   ]
  },
  {
   "cell_type": "code",
   "execution_count": 55,
   "metadata": {
    "collapsed": false
   },
   "outputs": [],
   "source": [
    "#tail(prems,3)# placing an integer, n, after the variable name in head/tail forces override to n rows"
   ]
  },
  {
   "cell_type": "code",
   "execution_count": 56,
   "metadata": {
    "collapsed": false
   },
   "outputs": [],
   "source": [
    "#plot(prems)"
   ]
  },
  {
   "cell_type": "markdown",
   "metadata": {},
   "source": [
    "## All of the code segments for the following plots are copied from the freely provided \n",
    "## demo of graphics provided by the core R team\n"
   ]
  },
  {
   "cell_type": "code",
   "execution_count": 57,
   "metadata": {
    "collapsed": false
   },
   "outputs": [],
   "source": [
    "#demo(package = .packages(all.available = TRUE))"
   ]
  },
  {
   "cell_type": "code",
   "execution_count": 83,
   "metadata": {
    "collapsed": false
   },
   "outputs": [],
   "source": [
    "#  Copyright (C) 1997-2009 The R Core Team\n",
    "\n",
    "require(datasets)\n",
    "require(grDevices); require(graphics)\n",
    "\n",
    "## Here is some code which illustrates some of the differences between\n",
    "## R and S graphics capabilities.  Note that colors are generally specified\n",
    "## by a character string name (taken from the X11 rgb.txt file) and that line\n",
    "## textures are given similarly.  The parameter \"bg\" sets the background\n",
    "## parameter for the plot and there is also an \"fg\" parameter which sets\n",
    "## the foreground color.\n",
    "\n",
    "\n",
    "x <- stats::rnorm(50)\n",
    "opar <- par(bg = \"white\")\n",
    "plot(x, ann = FALSE, type = \"n\")\n",
    "abline(h = 0, col = gray(.90))\n",
    "lines(x, col = \"green4\", lty = \"dotted\")\n",
    "points(x, bg = \"limegreen\", pch = 21)\n",
    "title(main = \"Simple Use of Color In a Plot\",\n",
    "      xlab = \"Just a Whisper of a Label\",\n",
    "      col.main = \"blue\", col.lab = gray(.8),\n",
    "      cex.main = 1.2, cex.lab = 1.0, font.main = 4, font.lab = 3)\n",
    "\n",
    "\n"
   ]
  },
  {
   "cell_type": "code",
   "execution_count": 96,
   "metadata": {
    "collapsed": false
   },
   "outputs": [],
   "source": [
    "## A little color wheel.\t This code just plots equally spaced hues in\n",
    "## a pie chart.\tIf you have a cheap SVGA monitor (like me) you will\n",
    "## probably find that numerically equispaced does not mean visually\n",
    "## equispaced.  On my display at home, these colors tend to cluster at\n",
    "## the RGB primaries.  On the other hand on the SGI Indy at work the\n",
    "## effect is near perfect.\n",
    "\n",
    "par(bg = \"gray\")\n",
    "pie(rep(1,24), col = rainbow(24), radius = 0.9)\n",
    "title(main = \"A Sample Color Wheel\", cex.main = 1.4, font.main = 3)\n",
    "title(xlab = \"(Use this as a test of monitor linearity)\",\n",
    "      cex.lab = 0.8, font.lab = 3)\n",
    "\n",
    "\n"
   ]
  },
  {
   "cell_type": "code",
   "execution_count": 95,
   "metadata": {
    "collapsed": false
   },
   "outputs": [],
   "source": [
    "## We have already confessed to having these.  This is just showing off X11\n",
    "## color names (and the example (from the postscript manual) is pretty \"cute\".\n",
    "\n",
    "pie.sales <- c(0.12, 0.3, 0.26, 0.16, 0.04, 0.12)\n",
    "names(pie.sales) <- c(\"Blueberry\", \"Cherry\",\n",
    "\t\t      \"Apple\", \"Boston Cream\", \"Other\", \"Vanilla Cream\")\n",
    "pie(pie.sales,\n",
    "    col = c(\"purple\",\"violetred1\",\"green3\",\"cornsilk\",\"cyan\",\"white\"))\n",
    "title(main = \"January Pie Sales\", cex.main = 1.8, font.main = 1)\n",
    "title(xlab = \"(Don't try this at home kids)\", cex.lab = 0.8, font.lab = 3)"
   ]
  },
  {
   "cell_type": "code",
   "execution_count": 93,
   "metadata": {
    "collapsed": false
   },
   "outputs": [],
   "source": [
    "## Boxplots:  I couldn't resist the capability for filling the \"box\".\n",
    "## The use of color seems like a useful addition, it focuses attention\n",
    "## on the central bulk of the data.\n",
    "\n",
    "par(bg=\"cornsilk\")\n",
    "n <- 10\n",
    "g <- gl(n, 100, n*100)\n",
    "x <- rnorm(n*100) + sqrt(as.numeric(g))\n",
    "boxplot(split(x,g), col=\"lavender\", notch=TRUE)\n",
    "title(main=\"Notched Boxplots\", xlab=\"Group\", font.main=4, font.lab=1)\n",
    "\n",
    "\n"
   ]
  },
  {
   "cell_type": "code",
   "execution_count": 85,
   "metadata": {
    "collapsed": false
   },
   "outputs": [],
   "source": [
    "## An example showing how to fill between curves.\n",
    "\n",
    "par(bg=\"white\")\n",
    "n <- 100\n",
    "x <- c(0,cumsum(rnorm(n)))\n",
    "y <- c(0,cumsum(rnorm(n)))\n",
    "xx <- c(0:n, n:0)\n",
    "yy <- c(x, rev(y))\n",
    "plot(xx, yy, type=\"n\", xlab=\"Time\", ylab=\"Distance\")\n",
    "polygon(xx, yy, col=\"gray\")\n",
    "title(\"Distance Between Brownian Motions\")"
   ]
  },
  {
   "cell_type": "code",
   "execution_count": 86,
   "metadata": {
    "collapsed": false
   },
   "outputs": [],
   "source": [
    "## Colored plot margins, axis labels and titles.\t You do need to be\n",
    "## careful with these kinds of effects.\tIt's easy to go completely\n",
    "## over the top and you can end up with your lunch all over the keyboard.\n",
    "## On the other hand, my market research clients love it.\n",
    "\n",
    "x <- c(0.00, 0.40, 0.86, 0.85, 0.69, 0.48, 0.54, 1.09, 1.11, 1.73, 2.05, 2.02)\n",
    "par(bg=\"lightgray\")\n",
    "plot(x, type=\"n\", axes=FALSE, ann=FALSE)\n",
    "usr <- par(\"usr\")\n",
    "rect(usr[1], usr[3], usr[2], usr[4], col=\"cornsilk\", border=\"black\")\n",
    "lines(x, col=\"blue\")\n",
    "points(x, pch=21, bg=\"lightcyan\", cex=1.25)\n",
    "axis(2, col.axis=\"blue\", las=1)\n",
    "axis(1, at=1:12, lab=month.abb, col.axis=\"blue\")\n",
    "box()\n",
    "title(main= \"The Level of Interest in R\", font.main=4, col.main=\"red\")\n",
    "title(xlab= \"1996\", col.lab=\"red\")\n"
   ]
  },
  {
   "cell_type": "code",
   "execution_count": 87,
   "metadata": {
    "collapsed": false
   },
   "outputs": [],
   "source": [
    "## A filled histogram, showing how to change the font used for the\n",
    "## main title without changing the other annotation.\n",
    "\n",
    "par(bg=\"cornsilk\")\n",
    "x <- rnorm(1000)\n",
    "hist(x, xlim=range(-4, 4, x), col=\"lavender\", main=\"\")\n",
    "title(main=\"1000 Normal Random Variates\", font.main=3)"
   ]
  },
  {
   "cell_type": "code",
   "execution_count": 88,
   "metadata": {
    "collapsed": false
   },
   "outputs": [],
   "source": [
    "## A scatterplot matrix\n",
    "## The good old Iris data (yet again)\n",
    "\n",
    "pairs(iris[1:4], main=\"Edgar Anderson's Iris Data\", font.main=4, pch=19)\n",
    "\n"
   ]
  },
  {
   "cell_type": "code",
   "execution_count": 89,
   "metadata": {
    "collapsed": false
   },
   "outputs": [],
   "source": [
    "pairs(iris[1:4], main=\"Edgar Anderson's Iris Data\", pch=21,\n",
    "      bg = c(\"red\", \"green3\", \"blue\")[unclass(iris$Species)])\n"
   ]
  },
  {
   "cell_type": "code",
   "execution_count": 90,
   "metadata": {
    "collapsed": false
   },
   "outputs": [],
   "source": [
    "\n",
    "\n",
    "## Contour plotting\n",
    "## This produces a topographic map of one of Auckland's many volcanic \"peaks\".\n",
    "\n",
    "x <- 10*1:nrow(volcano)\n",
    "y <- 10*1:ncol(volcano)\n",
    "lev <- pretty(range(volcano), 10)\n",
    "par(bg = \"lightcyan\")\n",
    "pin <- par(\"pin\")\n",
    "xdelta <- diff(range(x))\n",
    "ydelta <- diff(range(y))\n",
    "xscale <- pin[1]/xdelta\n",
    "yscale <- pin[2]/ydelta\n",
    "scale <- min(xscale, yscale)\n",
    "xadd <- 0.5*(pin[1]/scale - xdelta)\n",
    "yadd <- 0.5*(pin[2]/scale - ydelta)\n",
    "plot(numeric(0), numeric(0),\n",
    "     xlim = range(x)+c(-1,1)*xadd, ylim = range(y)+c(-1,1)*yadd,\n",
    "     type = \"n\", ann = FALSE)\n",
    "usr <- par(\"usr\")\n",
    "rect(usr[1], usr[3], usr[2], usr[4], col=\"green3\")\n",
    "contour(x, y, volcano, levels = lev, col=\"yellow\", lty=\"solid\", add=TRUE)\n",
    "box()\n",
    "title(\"A Topographic Map of Maunga Whau\", font= 4)\n",
    "title(xlab = \"Meters North\", ylab = \"Meters West\", font= 3)\n",
    "mtext(\"10 Meter Contour Spacing\", side=3, line=0.35, outer=FALSE,\n",
    "      at = mean(par(\"usr\")[1:2]), cex=0.7, font=3)\n",
    "\n"
   ]
  },
  {
   "cell_type": "code",
   "execution_count": 92,
   "metadata": {
    "collapsed": false
   },
   "outputs": [],
   "source": [
    "## Conditioning plots\n",
    "\n",
    "par(bg=\"cornsilk\")\n",
    "coplot(lat ~ long | depth, data = quakes, pch = 21, bg = \"green3\")\n",
    "\n",
    "par(opar)"
   ]
  },
  {
   "cell_type": "code",
   "execution_count": null,
   "metadata": {
    "collapsed": true
   },
   "outputs": [],
   "source": []
  }
 ],
 "metadata": {
  "kernelspec": {
   "display_name": "R",
   "language": "R",
   "name": "ir"
  },
  "language_info": {
   "codemirror_mode": "r",
   "file_extension": ".r",
   "mimetype": "text/x-r-source",
   "name": "R",
   "pygments_lexer": "r",
   "version": "3.3.0"
  }
 },
 "nbformat": 4,
 "nbformat_minor": 0
}
